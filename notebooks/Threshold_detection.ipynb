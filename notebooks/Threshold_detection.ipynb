{
 "cells": [
  {
   "cell_type": "markdown",
   "metadata": {},
   "source": [
    "# Intro #\n",
    "\n",
    "This analysis counts the total amount of time - and total consumption when - a series goes above (or below) a certain threshold.\n",
    "It also returns the count of these occurances."
   ]
  },
  {
   "cell_type": "markdown",
   "metadata": {},
   "source": [
    "## Imports ##"
   ]
  },
  {
   "cell_type": "code",
   "execution_count": null,
   "metadata": {},
   "outputs": [],
   "source": [
    "import pandas as pd\n",
    "from opengrid import datasets\n",
    "import numpy as np\n",
    "\n",
    "plt = og.plot_style()"
   ]
  },
  {
   "cell_type": "markdown",
   "metadata": {},
   "source": [
    "## Prepare data ##"
   ]
  },
  {
   "cell_type": "code",
   "execution_count": null,
   "metadata": {},
   "outputs": [],
   "source": [
    "# We have a dataset prepared that contains gas sensor data in W on a minutely resolution\n",
    "df = datasets.get('gas_dec2016_min')\n",
    "df = df['313b']\n",
    "\n",
    "ts = df.squeeze()\n",
    "\n",
    "threshold = 25000\n",
    "freq = 'min'"
   ]
  },
  {
   "cell_type": "markdown",
   "metadata": {},
   "source": [
    "## Plot ##"
   ]
  },
  {
   "cell_type": "code",
   "execution_count": null,
   "metadata": {},
   "outputs": [],
   "source": [
    "plt.plot(ts)\n",
    "plt.axhline(threshold, color='r')"
   ]
  },
  {
   "cell_type": "code",
   "execution_count": null,
   "metadata": {},
   "outputs": [],
   "source": [
    "def threshold_detection(ts, threshold, direction='above', freq = None):\n",
    "    \n",
    "    if freq is not None:\n",
    "        ts = ts.resample(freq).sum()\n",
    "    \n",
    "    if direction == 'above':\n",
    "        thresh_ts = ts > threshold\n",
    "    if direction == 'below':\n",
    "        thresh_ts = ts < threshold\n",
    "        \n",
    "    \n",
    "    duration = len(ts[thresh_ts])\n",
    "    amount = (ts[thresh_ts] - threshold).sum()\n",
    "    \n",
    "    on_toggles = thresh_ts\n",
    "    shifted = np.logical_not(on_toggles.shift(1))\n",
    "    result = on_toggles & shifted\n",
    "    count = result.sum()\n",
    "    \n",
    "    return dict([('Total_amount', amount), ('Total_duration', duration), ('count', count)])"
   ]
  },
  {
   "cell_type": "code",
   "execution_count": null,
   "metadata": {},
   "outputs": [],
   "source": [
    "threshold_detection(ts, threshold, freq=freq)"
   ]
  },
  {
   "cell_type": "code",
   "execution_count": null,
   "metadata": {},
   "outputs": [],
   "source": []
  }
 ],
 "metadata": {
  "kernelspec": {
   "display_name": "Python 3",
   "language": "python",
   "name": "python3"
  },
  "language_info": {
   "codemirror_mode": {
    "name": "ipython",
    "version": 3
   },
   "file_extension": ".py",
   "mimetype": "text/x-python",
   "name": "python",
   "nbconvert_exporter": "python",
   "pygments_lexer": "ipython3",
   "version": "3.6.3"
  }
 },
 "nbformat": 4,
 "nbformat_minor": 2
}
